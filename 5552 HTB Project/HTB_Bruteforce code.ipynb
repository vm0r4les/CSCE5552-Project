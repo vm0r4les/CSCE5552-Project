{
  "nbformat": 4,
  "nbformat_minor": 0,
  "metadata": {
    "colab": {
      "provenance": []
    },
    "kernelspec": {
      "name": "python3",
      "display_name": "Python 3"
    },
    "language_info": {
      "name": "python"
    }
  },
  "cells": [
    {
      "cell_type": "code",
      "source": [
        "!pip install pycryptodome"
      ],
      "metadata": {
        "colab": {
          "base_uri": "https://localhost:8080/"
        },
        "id": "eu6Pl4kkfQIW",
        "outputId": "eb0a39d5-5162-4092-f867-95909d939fbd"
      },
      "execution_count": null,
      "outputs": [
        {
          "output_type": "stream",
          "name": "stdout",
          "text": [
            "Collecting pycryptodome\n",
            "  Downloading pycryptodome-3.21.0-cp36-abi3-manylinux_2_17_x86_64.manylinux2014_x86_64.whl.metadata (3.4 kB)\n",
            "Downloading pycryptodome-3.21.0-cp36-abi3-manylinux_2_17_x86_64.manylinux2014_x86_64.whl (2.3 MB)\n",
            "\u001b[?25l   \u001b[90m━━━━━━━━━━━━━━━━━━━━━━━━━━━━━━━━━━━━━━━━\u001b[0m \u001b[32m0.0/2.3 MB\u001b[0m \u001b[31m?\u001b[0m eta \u001b[36m-:--:--\u001b[0m\r\u001b[2K   \u001b[91m━━━━━━━━━━━━━━━━━━━━━━━━━━━━━━━━━━━━━━━\u001b[0m\u001b[91m╸\u001b[0m \u001b[32m2.3/2.3 MB\u001b[0m \u001b[31m82.4 MB/s\u001b[0m eta \u001b[36m0:00:01\u001b[0m\r\u001b[2K   \u001b[90m━━━━━━━━━━━━━━━━━━━━━━━━━━━━━━━━━━━━━━━━\u001b[0m \u001b[32m2.3/2.3 MB\u001b[0m \u001b[31m42.1 MB/s\u001b[0m eta \u001b[36m0:00:00\u001b[0m\n",
            "\u001b[?25hInstalling collected packages: pycryptodome\n",
            "Successfully installed pycryptodome-3.21.0\n"
          ]
        }
      ]
    },
    {
      "cell_type": "code",
      "execution_count": null,
      "metadata": {
        "colab": {
          "base_uri": "https://localhost:8080/"
        },
        "id": "laSgAqbMfAUX",
        "outputId": "1052b042-b2da-4463-b943-c91050f3792e"
      },
      "outputs": [
        {
          "output_type": "stream",
          "name": "stdout",
          "text": [
            "Target hash: 4604009067982665025044311252662446573\n",
            "Generating prime combinations...\n",
            "Generated 1000 primes for brute force.\n",
            "Trying combinations with 1 prime factors...\n",
            "Trying combinations with 2 prime factors...\n",
            "Trying combinations with 3 prime factors...\n",
            "Trying combinations with 4 prime factors...\n"
          ]
        }
      ],
      "source": [
        "from sympy.ntheory import factorint as ps_and_qs\n",
        "from Crypto.Util.number import getPrime\n",
        "import itertools\n",
        "\n",
        "# Constants from the challenge\n",
        "golden_ratio = 2654435761\n",
        "\n",
        "# Simulating hash_var from the challenge\n",
        "def hash_var(key):\n",
        "    return (((key % golden_ratio) * golden_ratio) >> 32)\n",
        "\n",
        "# Function to brute-force the hash of N\n",
        "def brute_force_hash(target_hash, max_prime_factors=4, prime_bit_size=32):\n",
        "    \"\"\"\n",
        "    Brute-forces the value of N by trying combinations of prime factors.\n",
        "\n",
        "    Args:\n",
        "        target_hash (int): The expected hash value of N.\n",
        "        max_prime_factors (int): Maximum number of prime factors to try.\n",
        "        prime_bit_size (int): Bit size of primes to generate.\n",
        "\n",
        "    Returns:\n",
        "        int: The value of N that produces the target hash.\n",
        "    \"\"\"\n",
        "    print(f\"Target hash: {target_hash}\")\n",
        "    print(\"Generating prime combinations...\")\n",
        "\n",
        "    # Generate a pool of primes\n",
        "    primes = [getPrime(prime_bit_size) for _ in range(1000)]\n",
        "    print(f\"Generated {len(primes)} primes for brute force.\")\n",
        "\n",
        "    # Try combinations of primes\n",
        "    for num_factors in range(1, max_prime_factors + 1):\n",
        "        print(f\"Trying combinations with {num_factors} prime factors...\")\n",
        "        for combination in itertools.combinations(primes, num_factors):\n",
        "            N = 1\n",
        "            for prime in combination:\n",
        "                N *= prime\n",
        "            if hash_var(N) == target_hash:\n",
        "                print(f\"Match found! N = {N}\")\n",
        "                return N\n",
        "    print(\"No match found.\")\n",
        "    return None\n",
        "\n",
        "# Example usage\n",
        "if __name__ == \"__main__\":\n",
        "    # Replace with the expected hash of N (from the CAPTCHA)\n",
        "    target_hash = 4604009067982665025044311252662446573  # Example placeholder value\n",
        "\n",
        "    # Brute-force the hash of N\n",
        "    N = brute_force_hash(target_hash, max_prime_factors=4, prime_bit_size=32)\n",
        "    if N:\n",
        "        print(f\"Successfully brute-forced N: {N}\")\n",
        "    else:\n",
        "        print(\"Failed to find a matching N.\")\n"
      ]
    }
  ]
}