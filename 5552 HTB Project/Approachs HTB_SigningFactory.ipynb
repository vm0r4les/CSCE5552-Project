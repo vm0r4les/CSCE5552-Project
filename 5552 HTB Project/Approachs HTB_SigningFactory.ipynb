{
  "nbformat": 4,
  "nbformat_minor": 0,
  "metadata": {
    "colab": {
      "provenance": []
    },
    "kernelspec": {
      "name": "python3",
      "display_name": "Python 3"
    },
    "language_info": {
      "name": "python"
    }
  },
  "cells": [
    {
      "cell_type": "code",
      "source": [
        "!pip install pycryptodome"
      ],
      "metadata": {
        "colab": {
          "base_uri": "https://localhost:8080/"
        },
        "id": "suY2r9PU0EsC",
        "outputId": "748821bb-4ed9-47f0-98e0-bbbf888d9420"
      },
      "execution_count": null,
      "outputs": [
        {
          "output_type": "stream",
          "name": "stdout",
          "text": [
            "Collecting pycryptodome\n",
            "  Downloading pycryptodome-3.21.0-cp36-abi3-manylinux_2_17_x86_64.manylinux2014_x86_64.whl.metadata (3.4 kB)\n",
            "Downloading pycryptodome-3.21.0-cp36-abi3-manylinux_2_17_x86_64.manylinux2014_x86_64.whl (2.3 MB)\n",
            "\u001b[?25l   \u001b[90m━━━━━━━━━━━━━━━━━━━━━━━━━━━━━━━━━━━━━━━━\u001b[0m \u001b[32m0.0/2.3 MB\u001b[0m \u001b[31m?\u001b[0m eta \u001b[36m-:--:--\u001b[0m\r\u001b[2K   \u001b[91m━━━━━\u001b[0m\u001b[91m╸\u001b[0m\u001b[90m━━━━━━━━━━━━━━━━━━━━━━━━━━━━━━━━━━\u001b[0m \u001b[32m0.3/2.3 MB\u001b[0m \u001b[31m9.1 MB/s\u001b[0m eta \u001b[36m0:00:01\u001b[0m\r\u001b[2K   \u001b[91m━━━━━━━━━━━━━━━━━━━━━━━━━━━━━━━━━━━━━━━\u001b[0m\u001b[91m╸\u001b[0m \u001b[32m2.3/2.3 MB\u001b[0m \u001b[31m33.9 MB/s\u001b[0m eta \u001b[36m0:00:01\u001b[0m\r\u001b[2K   \u001b[90m━━━━━━━━━━━━━━━━━━━━━━━━━━━━━━━━━━━━━━━━\u001b[0m \u001b[32m2.3/2.3 MB\u001b[0m \u001b[31m24.1 MB/s\u001b[0m eta \u001b[36m0:00:00\u001b[0m\n",
            "\u001b[?25hInstalling collected packages: pycryptodome\n",
            "Successfully installed pycryptodome-3.21.0\n"
          ]
        }
      ]
    },
    {
      "cell_type": "code",
      "source": [
        "!pip install sympy --upgrade"
      ],
      "metadata": {
        "id": "rcFnkm5x9zAr",
        "colab": {
          "base_uri": "https://localhost:8080/",
          "height": 356
        },
        "outputId": "0273a77d-13fc-40a1-9d10-f98ca80bf7a3"
      },
      "execution_count": null,
      "outputs": [
        {
          "output_type": "stream",
          "name": "stdout",
          "text": [
            "Requirement already satisfied: sympy in /usr/local/lib/python3.10/dist-packages (1.13.1)\n",
            "Collecting sympy\n",
            "  Downloading sympy-1.13.3-py3-none-any.whl.metadata (12 kB)\n",
            "Requirement already satisfied: mpmath<1.4,>=1.1.0 in /usr/local/lib/python3.10/dist-packages (from sympy) (1.3.0)\n",
            "Downloading sympy-1.13.3-py3-none-any.whl (6.2 MB)\n",
            "\u001b[2K   \u001b[90m━━━━━━━━━━━━━━━━━━━━━━━━━━━━━━━━━━━━━━━━\u001b[0m \u001b[32m6.2/6.2 MB\u001b[0m \u001b[31m50.2 MB/s\u001b[0m eta \u001b[36m0:00:00\u001b[0m\n",
            "\u001b[?25hInstalling collected packages: sympy\n",
            "  Attempting uninstall: sympy\n",
            "    Found existing installation: sympy 1.13.1\n",
            "    Uninstalling sympy-1.13.1:\n",
            "      Successfully uninstalled sympy-1.13.1\n",
            "\u001b[31mERROR: pip's dependency resolver does not currently take into account all the packages that are installed. This behaviour is the source of the following dependency conflicts.\n",
            "torch 2.5.1+cu121 requires sympy==1.13.1; python_version >= \"3.9\", but you have sympy 1.13.3 which is incompatible.\u001b[0m\u001b[31m\n",
            "\u001b[0mSuccessfully installed sympy-1.13.3\n"
          ]
        },
        {
          "output_type": "display_data",
          "data": {
            "application/vnd.colab-display-data+json": {
              "pip_warning": {
                "packages": [
                  "sympy"
                ]
              },
              "id": "eab0f73b904542c7a86a3d93cbf5df7d"
            }
          },
          "metadata": {}
        }
      ]
    },
    {
      "cell_type": "code",
      "source": [
        "from Crypto.Util.number import inverse\n",
        "\n",
        "# Public exponent\n",
        "e = 65537\n",
        "\n",
        "# Compute d\n",
        "d = inverse(e, phi)\n",
        "print(f\"Private key d: {d}\")\n"
      ],
      "metadata": {
        "id": "Jpcndn41TJEj"
      },
      "execution_count": null,
      "outputs": []
    },
    {
      "cell_type": "code",
      "source": [
        "golden_ratio = 2654435761\n",
        "hash_var = lambda key: (((key % golden_ratio) * golden_ratio) >> 32)\n",
        "\n",
        "# Admin username\n",
        "admin_username = int.from_bytes(b\"System_Administrator\", \"big\")\n",
        "admin_hash = hash_var(admin_username)\n"
      ],
      "metadata": {
        "id": "y24LWxPITKIJ"
      },
      "execution_count": null,
      "outputs": []
    },
    {
      "cell_type": "code",
      "source": [
        "forged_signature = pow(admin_hash, d, N)\n"
      ],
      "metadata": {
        "id": "1WKONvhZTM7i"
      },
      "execution_count": null,
      "outputs": []
    },
    {
      "cell_type": "code",
      "source": [
        "from base64 import b64encode\n",
        "\n",
        "forged_token = b64encode(str(forged_signature).encode()).decode()\n",
        "print(f\"Forged token: {forged_token}\")\n"
      ],
      "metadata": {
        "id": "juW9oVVtTOjr"
      },
      "execution_count": null,
      "outputs": []
    },
    {
      "cell_type": "code",
      "source": [
        "from sympy import factorint\n",
        "from math import prod\n",
        "from Crypto.Util.number import inverse\n",
        "\n",
        "# Public key (e, n)\n",
        "e = 65537\n",
        "n = 23077780643096626345834569972287762261102949090415832745741989072361926348679787752927039560758293809744509443251729543839669104729972205051525976372690703576455637358741145300331121844766068040020493665905287820860636331105364082562395867693234285635079243282948452678536242112209523720999363211078943227680953280833921385505614937699478243458688195937342278884027397383705154107650635332575833213926056849565724859597382538209907573708690111649587272270028694724390380914808269038116695624017391802295142458560649398377310821001284974994720489935832208902568921058839009991529256000845506056448874693658674309405973# Replace with actual modulus\n",
        "\n",
        "# Factorize n\n",
        "factors = factorint(n)  # Returns a dictionary of prime factors and their powers\n",
        "print(f\"Factors of n: {factors}\")\n",
        "\n",
        "# Calculate phi(n) using all prime factors\n",
        "phi = prod((p - 1) * (p ** (power - 1)) for p, power in factors.items())\n",
        "print(f\"phi(n): {phi}\")\n",
        "\n",
        "# Calculate the private key d\n",
        "d = inverse(e, phi)\n",
        "print(f\"Private key d: {d}\")\n"
      ],
      "metadata": {
        "id": "KmVOKRbhFX1w"
      },
      "execution_count": null,
      "outputs": []
    },
    {
      "cell_type": "code",
      "source": [
        "golden_ratio = 2654435761\n",
        "hash_var = lambda key: (((key % golden_ratio) * golden_ratio) >> 32)\n",
        "admin = bytes_to_long(b'System_Administrator')\n",
        "admin_hash = hash_var(admin)"
      ],
      "metadata": {
        "id": "CdMqt2sqHIrB"
      },
      "execution_count": null,
      "outputs": []
    },
    {
      "cell_type": "code",
      "source": [
        "forged_token = pow(admin_hash, d, n)\n",
        "token_b64 = b64encode(str(forged_token).encode())\n",
        "print(f\"Forged Token: {token_b64.decode()}\")"
      ],
      "metadata": {
        "colab": {
          "base_uri": "https://localhost:8080/"
        },
        "id": "1khST46BHLbT",
        "outputId": "e4f8d3bf-f2f0-4cfa-f2a3-5e74d9b8bc1f"
      },
      "execution_count": null,
      "outputs": [
        {
          "output_type": "stream",
          "name": "stdout",
          "text": [
            "Forged Token: NjUwNzk4MDQxNjMyNDI5MDQ5MjUwNTE5NzgxMjgxNjQzOTc=\n"
          ]
        }
      ]
    },
    {
      "cell_type": "code",
      "source": [
        "from Crypto.Util.number import inverse, bytes_to_long\n",
        "from base64 import b64encode\n",
        "from sympy import factorint\n",
        "from math import prod\n",
        "\n",
        "# Public key (e, n) obtained from server\n",
        "e = 65537\n",
        "n = 23077780643096626345834569972287762261102949090415832745741989072361926348679787752927039560758293809744509443251729543839669104729972205051525976372690703576455637358741145300331121844766068040020493665905287820860636331105364082562395867693234285635079243282948452678536242112209523720999363211078943227680953280833921385505614937699478243458688195937342278884027397383705154107650635332575833213926056849565724859597382538209907573708690111649587272270028694724390380914808269038116695624017391802295142458560649398377310821001284974994720489935832208902568921058839009991529256000845506056448874693658674309405973  # Replace with actual value from the server\n",
        "\n",
        "# Factorize n to get p and q\n",
        "factors = factorint(n)\n",
        "phi = prod((p - 1) * (p ** (power - 1)) for p, power in factors.items())\n",
        "\n",
        "# Calculate private key d\n",
        "d = inverse(e, phi)\n",
        "\n",
        "# Hash function from the server\n",
        "golden_ratio = 2654435761\n",
        "hash_var = lambda key: (((key % golden_ratio) * golden_ratio) >> 32)\n",
        "\n",
        "# Admin username\n",
        "admin_username = bytes_to_long(b'System_Administrator')\n",
        "admin_hash = hash_var(admin_username)\n",
        "\n",
        "# Forge the token\n",
        "forged_signature = pow(admin_hash, d, n)\n",
        "forged_token = b64encode(str(forged_signature).encode()).decode()\n",
        "\n",
        "print(f\"Forged token: {forged_token}\")\n"
      ],
      "metadata": {
        "colab": {
          "base_uri": "https://localhost:8080/",
          "height": 356
        },
        "id": "YHLJBhwWKJwQ",
        "outputId": "fccc76c2-6f1a-4b1c-cffb-2c3bc16ac92a"
      },
      "execution_count": null,
      "outputs": [
        {
          "output_type": "error",
          "ename": "KeyboardInterrupt",
          "evalue": "",
          "traceback": [
            "\u001b[0;31m---------------------------------------------------------------------------\u001b[0m",
            "\u001b[0;31mKeyboardInterrupt\u001b[0m                         Traceback (most recent call last)",
            "\u001b[0;32m<ipython-input-37-7c932f5b2d98>\u001b[0m in \u001b[0;36m<cell line: 11>\u001b[0;34m()\u001b[0m\n\u001b[1;32m      9\u001b[0m \u001b[0;34m\u001b[0m\u001b[0m\n\u001b[1;32m     10\u001b[0m \u001b[0;31m# Factorize n to get p and q\u001b[0m\u001b[0;34m\u001b[0m\u001b[0;34m\u001b[0m\u001b[0m\n\u001b[0;32m---> 11\u001b[0;31m \u001b[0mfactors\u001b[0m \u001b[0;34m=\u001b[0m \u001b[0mfactorint\u001b[0m\u001b[0;34m(\u001b[0m\u001b[0mn\u001b[0m\u001b[0;34m)\u001b[0m\u001b[0;34m\u001b[0m\u001b[0;34m\u001b[0m\u001b[0m\n\u001b[0m\u001b[1;32m     12\u001b[0m \u001b[0mphi\u001b[0m \u001b[0;34m=\u001b[0m \u001b[0mprod\u001b[0m\u001b[0;34m(\u001b[0m\u001b[0;34m(\u001b[0m\u001b[0mp\u001b[0m \u001b[0;34m-\u001b[0m \u001b[0;36m1\u001b[0m\u001b[0;34m)\u001b[0m \u001b[0;34m*\u001b[0m \u001b[0;34m(\u001b[0m\u001b[0mp\u001b[0m \u001b[0;34m**\u001b[0m \u001b[0;34m(\u001b[0m\u001b[0mpower\u001b[0m \u001b[0;34m-\u001b[0m \u001b[0;36m1\u001b[0m\u001b[0;34m)\u001b[0m\u001b[0;34m)\u001b[0m \u001b[0;32mfor\u001b[0m \u001b[0mp\u001b[0m\u001b[0;34m,\u001b[0m \u001b[0mpower\u001b[0m \u001b[0;32min\u001b[0m \u001b[0mfactors\u001b[0m\u001b[0;34m.\u001b[0m\u001b[0mitems\u001b[0m\u001b[0;34m(\u001b[0m\u001b[0;34m)\u001b[0m\u001b[0;34m)\u001b[0m\u001b[0;34m\u001b[0m\u001b[0;34m\u001b[0m\u001b[0m\n\u001b[1;32m     13\u001b[0m \u001b[0;34m\u001b[0m\u001b[0m\n",
            "\u001b[0;32m/usr/local/lib/python3.10/dist-packages/sympy/ntheory/factor_.py\u001b[0m in \u001b[0;36mfactorint\u001b[0;34m(n, limit, use_trial, use_rho, use_pm1, use_ecm, verbose, visual, multiple)\u001b[0m\n\u001b[1;32m   1458\u001b[0m         \u001b[0;32mif\u001b[0m \u001b[0mverbose\u001b[0m\u001b[0;34m:\u001b[0m\u001b[0;34m\u001b[0m\u001b[0;34m\u001b[0m\u001b[0m\n\u001b[1;32m   1459\u001b[0m             \u001b[0mprint\u001b[0m\u001b[0;34m(\u001b[0m\u001b[0mecm_msg\u001b[0m \u001b[0;34m%\u001b[0m \u001b[0;34m(\u001b[0m\u001b[0mB1\u001b[0m\u001b[0;34m,\u001b[0m \u001b[0mB2\u001b[0m\u001b[0;34m,\u001b[0m \u001b[0mnum_curves\u001b[0m\u001b[0;34m)\u001b[0m\u001b[0;34m)\u001b[0m\u001b[0;34m\u001b[0m\u001b[0;34m\u001b[0m\u001b[0m\n\u001b[0;32m-> 1460\u001b[0;31m         \u001b[0mfactor\u001b[0m \u001b[0;34m=\u001b[0m \u001b[0m_ecm_one_factor\u001b[0m\u001b[0;34m(\u001b[0m\u001b[0mn\u001b[0m\u001b[0;34m,\u001b[0m \u001b[0mB1\u001b[0m\u001b[0;34m,\u001b[0m \u001b[0mB2\u001b[0m\u001b[0;34m,\u001b[0m \u001b[0mnum_curves\u001b[0m\u001b[0;34m,\u001b[0m \u001b[0mseed\u001b[0m\u001b[0;34m=\u001b[0m\u001b[0mB1\u001b[0m\u001b[0;34m)\u001b[0m\u001b[0;34m\u001b[0m\u001b[0;34m\u001b[0m\u001b[0m\n\u001b[0m\u001b[1;32m   1461\u001b[0m         \u001b[0;32mif\u001b[0m \u001b[0mfactor\u001b[0m\u001b[0;34m:\u001b[0m\u001b[0;34m\u001b[0m\u001b[0;34m\u001b[0m\u001b[0m\n\u001b[1;32m   1462\u001b[0m             \u001b[0;32mif\u001b[0m \u001b[0mfactor\u001b[0m \u001b[0;34m<\u001b[0m \u001b[0mnext_p\u001b[0m\u001b[0;34m**\u001b[0m\u001b[0;36m2\u001b[0m \u001b[0;32mor\u001b[0m \u001b[0misprime\u001b[0m\u001b[0;34m(\u001b[0m\u001b[0mfactor\u001b[0m\u001b[0;34m)\u001b[0m\u001b[0;34m:\u001b[0m\u001b[0;34m\u001b[0m\u001b[0;34m\u001b[0m\u001b[0m\n",
            "\u001b[0;32m/usr/local/lib/python3.10/dist-packages/sympy/ntheory/ecm.py\u001b[0m in \u001b[0;36m_ecm_one_factor\u001b[0;34m(n, B1, B2, max_curve, seed)\u001b[0m\n\u001b[1;32m    254\u001b[0m \u001b[0;34m\u001b[0m\u001b[0m\n\u001b[1;32m    255\u001b[0m         \u001b[0mQ\u001b[0m \u001b[0;34m=\u001b[0m \u001b[0mPoint\u001b[0m\u001b[0;34m(\u001b[0m\u001b[0mu_3\u001b[0m\u001b[0;34m,\u001b[0m \u001b[0mpow\u001b[0m\u001b[0;34m(\u001b[0m\u001b[0mv\u001b[0m\u001b[0;34m,\u001b[0m \u001b[0;36m3\u001b[0m\u001b[0;34m,\u001b[0m \u001b[0mn\u001b[0m\u001b[0;34m)\u001b[0m\u001b[0;34m,\u001b[0m \u001b[0ma24\u001b[0m\u001b[0;34m,\u001b[0m \u001b[0mn\u001b[0m\u001b[0;34m)\u001b[0m\u001b[0;34m\u001b[0m\u001b[0;34m\u001b[0m\u001b[0m\n\u001b[0;32m--> 256\u001b[0;31m         \u001b[0mQ\u001b[0m \u001b[0;34m=\u001b[0m \u001b[0mQ\u001b[0m\u001b[0;34m.\u001b[0m\u001b[0mmont_ladder\u001b[0m\u001b[0;34m(\u001b[0m\u001b[0mk\u001b[0m\u001b[0;34m)\u001b[0m\u001b[0;34m\u001b[0m\u001b[0;34m\u001b[0m\u001b[0m\n\u001b[0m\u001b[1;32m    257\u001b[0m         \u001b[0mg\u001b[0m \u001b[0;34m=\u001b[0m \u001b[0mgcd\u001b[0m\u001b[0;34m(\u001b[0m\u001b[0mQ\u001b[0m\u001b[0;34m.\u001b[0m\u001b[0mz_cord\u001b[0m\u001b[0;34m,\u001b[0m \u001b[0mn\u001b[0m\u001b[0;34m)\u001b[0m\u001b[0;34m\u001b[0m\u001b[0;34m\u001b[0m\u001b[0m\n\u001b[1;32m    258\u001b[0m \u001b[0;34m\u001b[0m\u001b[0m\n",
            "\u001b[0;32m/usr/local/lib/python3.10/dist-packages/sympy/ntheory/ecm.py\u001b[0m in \u001b[0;36mmont_ladder\u001b[0;34m(self, k)\u001b[0m\n\u001b[1;32m    151\u001b[0m             \u001b[0;32mif\u001b[0m  \u001b[0mi\u001b[0m  \u001b[0;34m==\u001b[0m \u001b[0;34m'1'\u001b[0m\u001b[0;34m:\u001b[0m\u001b[0;34m\u001b[0m\u001b[0;34m\u001b[0m\u001b[0m\n\u001b[1;32m    152\u001b[0m                 \u001b[0mQ\u001b[0m \u001b[0;34m=\u001b[0m \u001b[0mR\u001b[0m\u001b[0;34m.\u001b[0m\u001b[0madd\u001b[0m\u001b[0;34m(\u001b[0m\u001b[0mQ\u001b[0m\u001b[0;34m,\u001b[0m \u001b[0mself\u001b[0m\u001b[0;34m)\u001b[0m\u001b[0;34m\u001b[0m\u001b[0;34m\u001b[0m\u001b[0m\n\u001b[0;32m--> 153\u001b[0;31m                 \u001b[0mR\u001b[0m \u001b[0;34m=\u001b[0m \u001b[0mR\u001b[0m\u001b[0;34m.\u001b[0m\u001b[0mdouble\u001b[0m\u001b[0;34m(\u001b[0m\u001b[0;34m)\u001b[0m\u001b[0;34m\u001b[0m\u001b[0;34m\u001b[0m\u001b[0m\n\u001b[0m\u001b[1;32m    154\u001b[0m             \u001b[0;32melse\u001b[0m\u001b[0;34m:\u001b[0m\u001b[0;34m\u001b[0m\u001b[0;34m\u001b[0m\u001b[0m\n\u001b[1;32m    155\u001b[0m                 \u001b[0mR\u001b[0m \u001b[0;34m=\u001b[0m \u001b[0mQ\u001b[0m\u001b[0;34m.\u001b[0m\u001b[0madd\u001b[0m\u001b[0;34m(\u001b[0m\u001b[0mR\u001b[0m\u001b[0;34m,\u001b[0m \u001b[0mself\u001b[0m\u001b[0;34m)\u001b[0m\u001b[0;34m\u001b[0m\u001b[0;34m\u001b[0m\u001b[0m\n",
            "\u001b[0;32m/usr/local/lib/python3.10/dist-packages/sympy/ntheory/ecm.py\u001b[0m in \u001b[0;36mdouble\u001b[0;34m(self)\u001b[0m\n\u001b[1;32m    120\u001b[0m         \u001b[0mdiff\u001b[0m \u001b[0;34m=\u001b[0m \u001b[0mu\u001b[0m \u001b[0;34m-\u001b[0m \u001b[0mv\u001b[0m\u001b[0;34m\u001b[0m\u001b[0;34m\u001b[0m\u001b[0m\n\u001b[1;32m    121\u001b[0m         \u001b[0mx_cord\u001b[0m \u001b[0;34m=\u001b[0m \u001b[0mu\u001b[0m\u001b[0;34m*\u001b[0m\u001b[0mv\u001b[0m \u001b[0;34m%\u001b[0m \u001b[0mself\u001b[0m\u001b[0;34m.\u001b[0m\u001b[0mmod\u001b[0m\u001b[0;34m\u001b[0m\u001b[0;34m\u001b[0m\u001b[0m\n\u001b[0;32m--> 122\u001b[0;31m         \u001b[0mz_cord\u001b[0m \u001b[0;34m=\u001b[0m \u001b[0mdiff\u001b[0m\u001b[0;34m*\u001b[0m\u001b[0;34m(\u001b[0m\u001b[0mv\u001b[0m \u001b[0;34m+\u001b[0m \u001b[0mself\u001b[0m\u001b[0;34m.\u001b[0m\u001b[0ma_24\u001b[0m\u001b[0;34m*\u001b[0m\u001b[0mdiff\u001b[0m\u001b[0;34m)\u001b[0m \u001b[0;34m%\u001b[0m \u001b[0mself\u001b[0m\u001b[0;34m.\u001b[0m\u001b[0mmod\u001b[0m\u001b[0;34m\u001b[0m\u001b[0;34m\u001b[0m\u001b[0m\n\u001b[0m\u001b[1;32m    123\u001b[0m         \u001b[0;32mreturn\u001b[0m \u001b[0mPoint\u001b[0m\u001b[0;34m(\u001b[0m\u001b[0mx_cord\u001b[0m\u001b[0;34m,\u001b[0m \u001b[0mz_cord\u001b[0m\u001b[0;34m,\u001b[0m \u001b[0mself\u001b[0m\u001b[0;34m.\u001b[0m\u001b[0ma_24\u001b[0m\u001b[0;34m,\u001b[0m \u001b[0mself\u001b[0m\u001b[0;34m.\u001b[0m\u001b[0mmod\u001b[0m\u001b[0;34m)\u001b[0m\u001b[0;34m\u001b[0m\u001b[0;34m\u001b[0m\u001b[0m\n\u001b[1;32m    124\u001b[0m \u001b[0;34m\u001b[0m\u001b[0m\n",
            "\u001b[0;31mKeyboardInterrupt\u001b[0m: "
          ]
        }
      ]
    },
    {
      "cell_type": "code",
      "source": [
        "# Compute the admin hash\n",
        "golden_ratio = 2654435761\n",
        "admin_username = int.from_bytes(b\"System_Administrator\", \"big\")\n",
        "hashed_message = ((admin_username % golden_ratio) * golden_ratio) >> 32\n",
        "print(f\"Hashed message for System_Administrator: {hashed_message}\")\n"
      ],
      "metadata": {
        "colab": {
          "base_uri": "https://localhost:8080/"
        },
        "id": "y8kbDX1WUsHO",
        "outputId": "fe256f21-1688-493c-ac32-2526d1a7bb40"
      },
      "execution_count": null,
      "outputs": [
        {
          "output_type": "stream",
          "name": "stdout",
          "text": [
            "Hashed message for System_Administrator: 1115247629\n"
          ]
        }
      ]
    },
    {
      "cell_type": "code",
      "source": [
        "#Code 4/12/2024\n",
        "golden_ratio = 2654435761\n",
        "hash_var = lambda key: (((key % golden_ratio) * golden_ratio) >> 32)\n",
        "\n",
        "# Admin username\n",
        "admin_username = int.from_bytes(b\"System_Administrator\", \"big\")\n",
        "admin_hash = hash_var(admin_username)\n",
        "\n",
        "print(f\"Admin hash (message to factorize): {admin_hash}\")\n"
      ],
      "metadata": {
        "colab": {
          "base_uri": "https://localhost:8080/"
        },
        "id": "rDiwbDfKMq7I",
        "outputId": "a36b9394-96b2-43a6-aa9f-f27e7c78bcfb"
      },
      "execution_count": null,
      "outputs": [
        {
          "output_type": "stream",
          "name": "stdout",
          "text": [
            "Admin hash (message to factorize): 1115247629\n"
          ]
        }
      ]
    },
    {
      "cell_type": "code",
      "source": [
        "from sympy import factorint\n",
        "\n",
        "# Replace with the actual hash value\n",
        "hashed_message = 1115247629  # Replace with the computed admin_hash\n",
        "factors = factorint(hashed_message)\n",
        "print(f\"Factors of the hashed message: {factors}\")\n"
      ],
      "metadata": {
        "colab": {
          "base_uri": "https://localhost:8080/"
        },
        "id": "KQeSRrIBMvqB",
        "outputId": "f6de8c0f-99ce-4a84-e321-d238ed487baf"
      },
      "execution_count": null,
      "outputs": [
        {
          "output_type": "stream",
          "name": "stdout",
          "text": [
            "Factors of the hashed message: {67: 1, 16645487: 1}\n"
          ]
        }
      ]
    },
    {
      "cell_type": "code",
      "source": [
        "from base64 import b64encode\n",
        "\n",
        "# Full hashed message\n",
        "full_message = 67 * 16645487\n",
        "\n",
        "# Encode the forged token in Base64\n",
        "forged_token = b64encode(str(full_message).encode()).decode()\n",
        "print(f\"Forged token: {forged_token}\")\n",
        "\n"
      ],
      "metadata": {
        "colab": {
          "base_uri": "https://localhost:8080/"
        },
        "id": "_ty4cyUcNF7B",
        "outputId": "148aca0c-bea1-4d47-d3b6-8925ecfd4083"
      },
      "execution_count": null,
      "outputs": [
        {
          "output_type": "stream",
          "name": "stdout",
          "text": [
            "Forged token: MTExNTI0NzYyOQ==\n"
          ]
        }
      ]
    },
    {
      "cell_type": "code",
      "source": [
        "from sympy import mod_inverse\n",
        "\n",
        "# Public key components\n",
        "N = 28043810462158396239577548170149492712588890316904333115242404130950085119962066391354632515356962703303005632255990345358420713911071123613006072357591051502647711981250573716208890269653028307140653786652369818369922877380823567204456088093926487381105453539689923799944802566531755115328112035495450038516163594395252225867968876947440924106307043206587314160433442468240805485491804444968949969933887584423547908071749344793403334258455259550070793187930330688754440586070048795226478093601458646200721287966385997502836172490660889884384233132045985524169563329795456518861501883423742450594664908622470993943661\n",
        "e = 65537  # Public exponent\n",
        "\n",
        "# Hashed message\n",
        "hashed_message = 1361412366 # The full hashed value\n",
        "\n",
        "# Solve for S (modular root)\n",
        "S = mod_inverse(hashed_message, N)\n",
        "print(f\"Forged signature: {S}\")\n"
      ],
      "metadata": {
        "colab": {
          "base_uri": "https://localhost:8080/"
        },
        "id": "neRXuszlRm-M",
        "outputId": "b826b814-4f36-4b0d-8a72-537398e9551c"
      },
      "execution_count": null,
      "outputs": [
        {
          "output_type": "stream",
          "name": "stdout",
          "text": [
            "Forged signature: 3527673670982732431940388483627803727090722963955439845924948404098080461607651617723106426058124915471307889573069288306059278914882707933303491748479395642575268873658539386680021103067552606743358758244842997297842885263178048987150620549689759126143125213784926901387722381806821934927871294565636892248342011100093795415362112234915008709644781455853048422870656322389926823687133300797358497695035528511916968642389111458173526904304827232161619704506553305559777269927633688009559497029809572330778177277267304483432585312855363954290871794119829741032447188533152557436554625484875035053746879018965168467813\n"
          ]
        }
      ]
    },
    {
      "cell_type": "code",
      "source": [
        "from base64 import b64encode\n",
        "\n",
        "# Encode forged signature in Base64\n",
        "forged_token = b64encode(str(S).encode()).decode()\n",
        "print(f\"Forged token: {forged_token}\")\n"
      ],
      "metadata": {
        "colab": {
          "base_uri": "https://localhost:8080/"
        },
        "id": "TmvNGhKzR0g1",
        "outputId": "644d558d-1498-40ef-fc1e-ac52b18d6c8b"
      },
      "execution_count": null,
      "outputs": [
        {
          "output_type": "stream",
          "name": "stdout",
          "text": [
            "Forged token: MzUyNzY3MzY3MDk4MjczMjQzMTk0MDM4ODQ4MzYyNzgwMzcyNzA5MDcyMjk2Mzk1NTQzOTg0NTkyNDk0ODQwNDA5ODA4MDQ2MTYwNzY1MTYxNzcyMzEwNjQyNjA1ODEyNDkxNTQ3MTMwNzg4OTU3MzA2OTI4ODMwNjA1OTI3ODkxNDg4MjcwNzkzMzMwMzQ5MTc0ODQ3OTM5NTY0MjU3NTI2ODg3MzY1ODUzOTM4NjY4MDAyMTEwMzA2NzU1MjYwNjc0MzM1ODc1ODI0NDg0Mjk5NzI5Nzg0Mjg4NTI2MzE3ODA0ODk4NzE1MDYyMDU0OTY4OTc1OTEyNjE0MzEyNTIxMzc4NDkyNjkwMTM4NzcyMjM4MTgwNjgyMTkzNDkyNzg3MTI5NDU2NTYzNjg5MjI0ODM0MjAxMTEwMDA5Mzc5NTQxNTM2MjExMjIzNDkxNTAwODcwOTY0NDc4MTQ1NTg1MzA0ODQyMjg3MDY1NjMyMjM4OTkyNjgyMzY4NzEzMzMwMDc5NzM1ODQ5NzY5NTAzNTUyODUxMTkxNjk2ODY0MjM4OTExMTQ1ODE3MzUyNjkwNDMwNDgyNzIzMjE2MTYxOTcwNDUwNjU1MzMwNTU1OTc3NzI2OTkyNzYzMzY4ODAwOTU1OTQ5NzAyOTgwOTU3MjMzMDc3ODE3NzI3NzI2NzMwNDQ4MzQzMjU4NTMxMjg1NTM2Mzk1NDI5MDg3MTc5NDExOTgyOTc0MTAzMjQ0NzE4ODUzMzE1MjU1NzQzNjU1NDYyNTQ4NDg3NTAzNTA1Mzc0Njg3OTAxODk2NTE2ODQ2NzgxMw==\n"
          ]
        }
      ]
    },
    {
      "cell_type": "code",
      "source": [
        "#Verfication\n",
        "from sympy import mod_inverse\n",
        "\n",
        "# Public key components\n",
        "N = 28043810462158396239577548170149492712588890316904333115242404130950085119962066391354632515356962703303005632255990345358420713911071123613006072357591051502647711981250573716208890269653028307140653786652369818369922877380823567204456088093926487381105453539689923799944802566531755115328112035495450038516163594395252225867968876947440924106307043206587314160433442468240805485491804444968949969933887584423547908071749344793403334258455259550070793187930330688754440586070048795226478093601458646200721287966385997502836172490660889884384233132045985524169563329795456518861501883423742450594664908622470993943661\n",
        "e = 65537  # Public exponent\n",
        "\n",
        "# Hashed message\n",
        "hashed_message = 1361412366 # Replace with actual hashed value\n",
        "\n",
        "# Compute modular inverse of hashed message\n",
        "S = mod_inverse(hashed_message, N)\n",
        "\n",
        "# Verify the forged signature\n",
        "verified_hash = pow(S, e, N)\n",
        "print(f\"Verified hash: {verified_hash}\")\n",
        "print(f\"Expected hash: {hashed_message}\")\n"
      ],
      "metadata": {
        "colab": {
          "base_uri": "https://localhost:8080/"
        },
        "id": "yYUetg0JSW3C",
        "outputId": "67b46757-022e-43e2-cccb-e5e96f8f9aa2"
      },
      "execution_count": null,
      "outputs": [
        {
          "output_type": "stream",
          "name": "stdout",
          "text": [
            "Verified hash: 14678541753432846138735305082747211530790645623819649851998296631725855342458988927852199267633785877156471961709501233568235093894231980707995591987197109692988536565527029358402517454274064988229844486372171589973865457710564730263809462949156105754499630188385284518905832448413733539218074274739866931755965328225324282642056831675651421990696680419342352365324411888462094926391328115834052697191749157928802183319306622497549979261392502009050174154969135243085144195960432442692381625272672732402098386663248123414530366011998352465439653206099953598963735933215821003980340190835231186924302998351705616555469\n",
            "Expected hash: 1361412366\n"
          ]
        }
      ]
    },
    {
      "cell_type": "code",
      "source": [
        "from base64 import b64encode\n",
        "\n",
        "# Base64 encode the forged signature\n",
        "forged_token = b64encode(str(S).encode()).decode()\n",
        "print(f\"Forged token: {forged_token}\")\n"
      ],
      "metadata": {
        "colab": {
          "base_uri": "https://localhost:8080/"
        },
        "id": "6RDHBtHfSnBw",
        "outputId": "52aae7dc-5f52-4820-988a-6f276511e78f"
      },
      "execution_count": null,
      "outputs": [
        {
          "output_type": "stream",
          "name": "stdout",
          "text": [
            "Forged token: MzUyNzY3MzY3MDk4MjczMjQzMTk0MDM4ODQ4MzYyNzgwMzcyNzA5MDcyMjk2Mzk1NTQzOTg0NTkyNDk0ODQwNDA5ODA4MDQ2MTYwNzY1MTYxNzcyMzEwNjQyNjA1ODEyNDkxNTQ3MTMwNzg4OTU3MzA2OTI4ODMwNjA1OTI3ODkxNDg4MjcwNzkzMzMwMzQ5MTc0ODQ3OTM5NTY0MjU3NTI2ODg3MzY1ODUzOTM4NjY4MDAyMTEwMzA2NzU1MjYwNjc0MzM1ODc1ODI0NDg0Mjk5NzI5Nzg0Mjg4NTI2MzE3ODA0ODk4NzE1MDYyMDU0OTY4OTc1OTEyNjE0MzEyNTIxMzc4NDkyNjkwMTM4NzcyMjM4MTgwNjgyMTkzNDkyNzg3MTI5NDU2NTYzNjg5MjI0ODM0MjAxMTEwMDA5Mzc5NTQxNTM2MjExMjIzNDkxNTAwODcwOTY0NDc4MTQ1NTg1MzA0ODQyMjg3MDY1NjMyMjM4OTkyNjgyMzY4NzEzMzMwMDc5NzM1ODQ5NzY5NTAzNTUyODUxMTkxNjk2ODY0MjM4OTExMTQ1ODE3MzUyNjkwNDMwNDgyNzIzMjE2MTYxOTcwNDUwNjU1MzMwNTU1OTc3NzI2OTkyNzYzMzY4ODAwOTU1OTQ5NzAyOTgwOTU3MjMzMDc3ODE3NzI3NzI2NzMwNDQ4MzQzMjU4NTMxMjg1NTM2Mzk1NDI5MDg3MTc5NDExOTgyOTc0MTAzMjQ0NzE4ODUzMzE1MjU1NzQzNjU1NDYyNTQ4NDg3NTAzNTA1Mzc0Njg3OTAxODk2NTE2ODQ2NzgxMw==\n"
          ]
        }
      ]
    },
    {
      "cell_type": "code",
      "source": [
        "#Hash ok\n",
        "from sympy import mod_inverse\n",
        "\n",
        "golden_ratio = 2654435761\n",
        "\n",
        "equations = [\n",
        "    (2616054107, 1814112447),\n",
        "    #(2378535373, 1939146287),\n",
        "]\n",
        "prime_factors = []\n",
        "for rnd, output in equations:\n",
        "    # Compute modular inverse of rnd\n",
        "    rnd_inv = mod_inverse(rnd, golden_ratio)\n",
        "    # Compute the unknown (prime factor)\n",
        "    k = (output * rnd_inv) % golden_ratio\n",
        "    prime_factors.append(k)\n",
        "\n",
        "print(f\"Prime factors of hash(n): {prime_factors}\")\n"
      ],
      "metadata": {
        "colab": {
          "base_uri": "https://localhost:8080/"
        },
        "id": "UAkvpWdTM7hj",
        "outputId": "dc914705-2d9d-43b2-e476-e0a69f5e7ab5"
      },
      "execution_count": null,
      "outputs": [
        {
          "output_type": "stream",
          "name": "stdout",
          "text": [
            "Prime factors of hash(n): [177894881]\n"
          ]
        }
      ]
    },
    {
      "cell_type": "code",
      "source": [
        "from math import prod\n",
        "\n",
        "hash_n = prod(prime_factors)\n",
        "print(f\"Hash of n: {hash_n}\")\n"
      ],
      "metadata": {
        "colab": {
          "base_uri": "https://localhost:8080/"
        },
        "id": "xqFxEPrlNRFb",
        "outputId": "a454303b-c0fb-4ee7-97e0-ce02d96217e3"
      },
      "execution_count": null,
      "outputs": [
        {
          "output_type": "stream",
          "name": "stdout",
          "text": [
            "Hash of n: 177894881\n"
          ]
        }
      ]
    },
    {
      "cell_type": "code",
      "source": [
        "# This code it also works to obtain the hash from option 2\n",
        "from sympy import mod_inverse\n",
        "\n",
        "golden_ratio = 2654435761\n",
        "equations = [\n",
        "    {\"rnd\": 2584448683, \"output\": 1356042644},\n",
        "    {\"rnd\": 2378535373, \"output\": 1939146287},\n",
        "]\n",
        "\n",
        "# Solve modular equations\n",
        "unknowns = []\n",
        "for eq in equations:\n",
        "    rnd = eq[\"rnd\"]\n",
        "    output = eq[\"output\"]\n",
        "\n",
        "    # Solve for x such that (x * rnd) % golden_ratio = output\n",
        "    try:\n",
        "        rnd_inv = mod_inverse(rnd, golden_ratio)  # Compute modular inverse of rnd\n",
        "        x = (output * rnd_inv) % golden_ratio  # Solve for x\n",
        "        unknowns.append(x)\n",
        "    except ValueError:\n",
        "        print(f\"Cannot compute modular inverse for rnd = {rnd} mod {golden_ratio}\")\n",
        "\n",
        "print(f\"Derived unknowns: {unknowns}\")\n",
        "\n",
        "# Combine unknowns to compute N\n",
        "N = 1\n",
        "for val in unknowns:\n",
        "    N *= val\n",
        "\n",
        "print(f\"Derived N: {N}\")\n"
      ],
      "metadata": {
        "colab": {
          "base_uri": "https://localhost:8080/"
        },
        "id": "B2DdgmudXrtL",
        "outputId": "43bc0d54-b1ab-42b7-c31a-9dcc1c7fc8fa"
      },
      "execution_count": null,
      "outputs": [
        {
          "output_type": "stream",
          "name": "stdout",
          "text": [
            "Derived unknowns: [1877, 854443]\n",
            "Derived N: 1603789511\n"
          ]
        }
      ]
    },
    {
      "cell_type": "code",
      "source": [
        "#(e,N) = (65537, 28340100385370012173440927722460828886519379882583409546390510606025638236745223583764368962409903238041358515913640831212834820610047230178539509694646148130969283695877311223257398597149241605455546140187377198131137999518836694058079689682517618850876242888081718892050059313481416457186702103951098572776086726020858978861897114682070580812134730754775513021241455697856088777416682005636324571810522243224756226929110233949327269379818699255780729649693041135975309732217300803509903201772848762422231389102700926644038244891167126252646935266444690675600426413713853181748623061346852820656572755350891391366619)\n",
        "#(e,N) = (65537, 25357422969441557750227465266812135780366341747599389726352613849881348017019309983966782920180304479589027383216989748338630340790194434347151159437025314742189440166817752015858912595869170054047524570844199786066137780115356847744866746587921660407887177802430028770435250572650119361242248641553635230537046696180800195079624471438432015023519554894044023270280121992806755974351508638535035151574671251369143110361414840875382299816135968255372868973240272529535818059134143397346157583183404373030014234447191945055361414003973449818563974855861322670692200859290468379332598919308819323081638117979694711907327)\n"
      ],
      "metadata": {
        "id": "TZDYWwf1RhTj"
      },
      "execution_count": null,
      "outputs": []
    },
    {
      "cell_type": "code",
      "source": [
        "#Token verification\n",
        "from base64 import b64decode\n",
        "\n",
        "# Token for 'victor'\n",
        "token_victor = \"NTYwOTI2MTkwMzQyODE4NTgwMjQ1NzY2OTIyODAwNzA4NTY4ODEwNTI3Mjc1NDMwNTA2NTEyMTYwNzQyNjMwNDY4OTc3MTg0MzM1MDM5NTA4MjEwNjk1Nzc3NTk2NzU1MjQ0NTA4Njg2NjMzOTk3MTY4NzExMTc2ODE0Nzc5ODc1MzcyNDgxMTIzNzM0MTIzOTMyOTQ2NTQ3NDI2NjU4OTgwMjUyNTg3Mjk4MDA0NDk5NzE2MzUxODcyNTAwMjU3Mjk2NDU0NzM5NzQ1MzQ0OTM1MzgxMjYyNjc4NDAwNjg5MDYyODk3NjQxNjM1ODQ0NjgyMTEzMjcyNTg1NzMwODExNjEzNTI5OTYyNTUzMTI2NzY4NTMyNjUzMTk0MjgxNzY3MDg5OTMwNzE5NDA4OTQ5NjQwMTgxOTc3MjY3MTQwNDcxODA3MjQ1NjY0MjIwNzM0MTI4OTkyNjcxMTU5NzM3NzkyMTY4MTI1MjAwNzQ3MjExMDA1MDY2MTM2NDM2NjE1ODgyMzM4MDg0NjcxMzc4ODA5MjM5OTYyMDY5NjUxMjMwMDgyNDY3MTAwNjA4OTI3NzQ4MjEyMjQxMDI5MzQwNjYzNDYxMjExMzk0NDM5NjUzOTExMjI0ODEyMzIwMzY1NDExNjU5MzY3NDk2OTEzMTY3MTI5OTAwMTUyMTQ2ODQzMjA0OTYxOTQwMzQzMDA3MTEzODA4NTk3NjE2NDEwODI1MzQ1MDQ5MjU5Mjg0Nzg2NTgyMTkwMzc4MDQ0MzQ5NjQ0MjMyMjU3OTMxNzQyNzA0NzM5Mjg5ODM1NjQ5MDc0MTI0Nw==\"\n",
        "\n",
        "# Decode the Base64 token\n",
        "decoded_value = int(b64decode(token_victor).decode())\n",
        "print(f\"Decoded token value for 'victor': {decoded_value}\")\n"
      ],
      "metadata": {
        "colab": {
          "base_uri": "https://localhost:8080/"
        },
        "id": "HRXz6UeGa6G2",
        "outputId": "db8adb34-2790-42d5-a048-994bc9a0a62b"
      },
      "execution_count": null,
      "outputs": [
        {
          "output_type": "stream",
          "name": "stdout",
          "text": [
            "Decoded token value for 'victor': 5609261903428185802457669228007085688105272754305065121607426304689771843350395082106957775967552445086866339971687111768147798753724811237341239329465474266589802525872980044997163518725002572964547397453449353812626784006890628976416358446821132725857308116135299625531267685326531942817670899307194089496401819772671404718072456642207341289926711597377921681252007472110050661364366158823380846713788092399620696512300824671006089277482122410293406634612113944396539112248123203654116593674969131671299001521468432049619403430071138085976164108253450492592847865821903780443496442322579317427047392898356490741247\n"
          ]
        }
      ]
    },
    {
      "cell_type": "code",
      "source": [
        "# Verify token for 'victor'\n",
        "hashed_message_victor = ((int.from_bytes(b'victor', 'big') % golden_ratio) * golden_ratio) >> 32\n",
        "print(f\"Hashed message for 'victor': {hashed_message_victor}\")\n",
        "\n",
        "# Public exponent\n",
        "e = 65537\n",
        "\n",
        "# Check verification\n",
        "verified_value = pow(decoded_value, e, 28340100385370012173440927722460828886519379882583409546390510606025638236745223583764368962409903238041358515913640831212834820610047230178539509694646148130969283695877311223257398597149241605455546140187377198131137999518836694058079689682517618850876242888081718892050059313481416457186702103951098572776086726020858978861897114682070580812134730754775513021241455697856088777416682005636324571810522243224756226929110233949327269379818699255780729649693041135975309732217300803509903201772848762422231389102700926644038244891167126252646935266444690675600426413713853181748623061346852820656572755350891391366619)  # Replace N with the derived session modulus\n",
        "print(f\"Verified value: {verified_value}\")\n"
      ],
      "metadata": {
        "colab": {
          "base_uri": "https://localhost:8080/"
        },
        "id": "WyXN9kIZa-Gr",
        "outputId": "c47baf0d-252a-43c6-c20e-b24e7d18bc96"
      },
      "execution_count": null,
      "outputs": [
        {
          "output_type": "stream",
          "name": "stdout",
          "text": [
            "Hashed message for 'victor': 152662558\n",
            "Verified value: 23960953520026634679141588865817470710812446485625491423314154068639788915192798467153846934176324667113696351202209092600737729581864727884978968930876781425238969829220242655149123730773806387811942960904719558585862482855949811852925865307783598005347474432323330477551204887519798401157578151039035381999084474654457400863664319385833705556657786867736859116196160526995228882734926448386070233133756701195783581704896992937410013751172938853751012313826120300505530390154341943765287307370089880763196301222021330458930484188728063554121727679378648587610646398367017811252810771277550389501292026685207440817434\n"
          ]
        }
      ]
    },
    {
      "cell_type": "code",
      "source": [
        "admin_username = int.from_bytes(b\"System_Administrator\", \"big\")\n",
        "hashed_message_admin = ((admin_username % golden_ratio) * golden_ratio) >> 32\n",
        "print(f\"Hashed message for 'System_Administrator': {hashed_message_admin}\")\n"
      ],
      "metadata": {
        "colab": {
          "base_uri": "https://localhost:8080/"
        },
        "id": "VmI0f5LfbcCj",
        "outputId": "d8288e78-121d-42d1-bae3-de16f0516054"
      },
      "execution_count": null,
      "outputs": [
        {
          "output_type": "stream",
          "name": "stdout",
          "text": [
            "Hashed message for 'System_Administrator': 1115247629\n"
          ]
        }
      ]
    },
    {
      "cell_type": "code",
      "source": [
        "from sympy import mod_inverse\n",
        "forged_token_value = mod_inverse(hashed_message_admin, 28340100385370012173440927722460828886519379882583409546390510606025638236745223583764368962409903238041358515913640831212834820610047230178539509694646148130969283695877311223257398597149241605455546140187377198131137999518836694058079689682517618850876242888081718892050059313481416457186702103951098572776086726020858978861897114682070580812134730754775513021241455697856088777416682005636324571810522243224756226929110233949327269379818699255780729649693041135975309732217300803509903201772848762422231389102700926644038244891167126252646935266444690675600426413713853181748623061346852820656572755350891391366619)\n",
        "print(f\"Forged token value: {forged_token_value}\")\n"
      ],
      "metadata": {
        "colab": {
          "base_uri": "https://localhost:8080/"
        },
        "id": "0UCR9uuKbd3n",
        "outputId": "181f9a7f-7fe1-4494-f60b-bc65ea81c542"
      },
      "execution_count": null,
      "outputs": [
        {
          "output_type": "stream",
          "name": "stdout",
          "text": [
            "Forged token value: 13443617623219810152271656746055256413162537378611701246318570459070535972195571585623856004198114877758955107028479377650193226674231537741845369876333853726918599458901673624023743336421829085501550036750111196448824540331102368363509515090266300321475666360238089688288992946855522156066612290015952119934247033881775311382639777866281917675863222999983396063657062248260239128920216164655656434279030661231895676948678483455182883726485441819159378660297689942642693297255944933097900164200138059899230426586115798613829192461638449412180723439311462680107429696805802602336317237494492017271565079249871210706354\n"
          ]
        }
      ]
    },
    {
      "cell_type": "code",
      "source": [
        "forged_token = b64encode(str(forged_token_value).encode()).decode()\n",
        "print(f\"Base64 Encoded Forged Token for System_Administrator: {forged_token}\")\n"
      ],
      "metadata": {
        "colab": {
          "base_uri": "https://localhost:8080/"
        },
        "id": "E8pqSRfubhSl",
        "outputId": "cbcaa66b-885c-4f8c-f06b-17133d31417e"
      },
      "execution_count": null,
      "outputs": [
        {
          "output_type": "stream",
          "name": "stdout",
          "text": [
            "Base64 Encoded Forged Token for System_Administrator: MTM0NDM2MTc2MjMyMTk4MTAxNTIyNzE2NTY3NDYwNTUyNTY0MTMxNjI1MzczNzg2MTE3MDEyNDYzMTg1NzA0NTkwNzA1MzU5NzIxOTU1NzE1ODU2MjM4NTYwMDQxOTgxMTQ4Nzc3NTg5NTUxMDcwMjg0NzkzNzc2NTAxOTMyMjY2NzQyMzE1Mzc3NDE4NDUzNjk4NzYzMzM4NTM3MjY5MTg1OTk0NTg5MDE2NzM2MjQwMjM3NDMzMzY0MjE4MjkwODU1MDE1NTAwMzY3NTAxMTExOTY0NDg4MjQ1NDAzMzExMDIzNjgzNjM1MDk1MTUwOTAyNjYzMDAzMjE0NzU2NjYzNjAyMzgwODk2ODgyODg5OTI5NDY4NTU1MjIxNTYwNjY2MTIyOTAwMTU5NTIxMTk5MzQyNDcwMzM4ODE3NzUzMTEzODI2Mzk3Nzc4NjYyODE5MTc2NzU4NjMyMjI5OTk5ODMzOTYwNjM2NTcwNjIyNDgyNjAyMzkxMjg5MjAyMTYxNjQ2NTU2NTY0MzQyNzkwMzA2NjEyMzE4OTU2NzY5NDg2Nzg0ODM0NTUxODI4ODM3MjY0ODU0NDE4MTkxNTkzNzg2NjAyOTc2ODk5NDI2NDI2OTMyOTcyNTU5NDQ5MzMwOTc5MDAxNjQyMDAxMzgwNTk4OTkyMzA0MjY1ODYxMTU3OTg2MTM4MjkxOTI0NjE2Mzg0NDk0MTIxODA3MjM0MzkzMTE0NjI2ODAxMDc0Mjk2OTY4MDU4MDI2MDIzMzYzMTcyMzc0OTQ0OTIwMTcyNzE1NjUwNzkyNDk4NzEyMTA3MDYzNTQ=\n"
          ]
        }
      ]
    },
    {
      "cell_type": "code",
      "source": [
        "from sympy import mod_inverse, gcd\n",
        "from base64 import b64encode\n",
        "\n",
        "# Public key components from the server\n",
        "e = 65537\n",
        "N = 28043810462158396239577548170149492712588890316904333115242404130950085119962066391354632515356962703303005632255990345358420713911071123613006072357591051502647711981250573716208890269653028307140653786652369818369922877380823567204456088093926487381105453539689923799944802566531755115328112035495450038516163594395252225867968876947440924106307043206587314160433442468240805485491804444968949969933887584423547908071749344793403334258455259550070793187930330688754440586070048795226478093601458646200721287966385997502836172490660889884384233132045985524169563329795456518861501883423742450594664908622470993943661\n",
        "\n",
        "# Compute the hashed message for System_Administrator\n",
        "golden_ratio = 2654435761\n",
        "admin_username = int.from_bytes(b\"System_Administrator\", \"big\")\n",
        "hashed_message_admin = ((admin_username % golden_ratio) * golden_ratio) >> 32\n",
        "\n",
        "print(f\"Hashed message for System_Administrator: {hashed_message_admin}\")\n",
        "\n",
        "# Forge the token (S)\n",
        "try:\n",
        "    S = mod_inverse(hashed_message_admin, N)\n",
        "    print(f\"Forged token value (S): {S}\")\n",
        "\n",
        "    # Verify if S^e mod N matches the hashed message\n",
        "    verified_value = pow(S, e, N)    print(f\"Verification result: {verified_value}\")\n",
        "    if verified_value == hashed_message_admin:\n",
        "        print(\"Verification successful: S^e mod N matches the hashed message.\")\n",
        "    else:\n",
        "        print(\"Verification failed: S^e mod N does not match the hashed message.\")\n",
        "except ValueError:\n",
        "    print(\"Modular inverse calculation failed. Ensure hashed_message_admin and N are coprime.\")\n"
      ],
      "metadata": {
        "colab": {
          "base_uri": "https://localhost:8080/"
        },
        "id": "-tQgG-tFfBPW",
        "outputId": "3bc59d2b-c41d-4ee7-89ca-ae270849eb24"
      },
      "execution_count": null,
      "outputs": [
        {
          "output_type": "stream",
          "name": "stdout",
          "text": [
            "Hashed message for System_Administrator: 1115247629\n",
            "Forged token value (S): 22767620550859502820842873128203896649915385328256314428699198993321267331870531155386942398413012268444836188151091746510452265403660028194073720023473519150674272875548989191205589043378977722991665058296992167442927866418466234989854767436535013536062776063433512677884969462041387459230880115513455201755872218821088111962662574058633761194833557760672568395390119361866038838066078259298321101595388141511994891302987354746324864419081814658199435042932203843300165671130783412642269260049055036420835055034655339711202661714655187097954572061874013264849428415939920329402626913875981951113259251793357440843119\n",
            "Verification result: 8482366186859324895242441332104652659593557874124677553551042753004974077635265042714385590902136503824716898903457052916754395006798828232042812802371693919934257790987132196792792356691528394020681180682872221315494196984688123273875625836685854873135846660715298868318172075392541184081674225562371420095079573864026394447569538063468611833352834804355813481794426295258176724013724653517548192794127072127115828021378358168433291646294729944912059765364900193801593839681672635484760122409522416043752315995234141637723911516850345557872498966674705159509394247525297358274711355720513588738450050795100325785134\n",
            "Verification failed: S^e mod N does not match the hashed message.\n"
          ]
        }
      ]
    },
    {
      "cell_type": "code",
      "source": [
        "print(f\"Hashed message for System_Administrator: {hashed_message_admin}\")\n"
      ],
      "metadata": {
        "colab": {
          "base_uri": "https://localhost:8080/"
        },
        "id": "osQaILtafjN9",
        "outputId": "81af55b7-95dd-41c1-ab9a-2adb3bcc7fed"
      },
      "execution_count": null,
      "outputs": [
        {
          "output_type": "stream",
          "name": "stdout",
          "text": [
            "Hashed message for System_Administrator: 1115247629\n"
          ]
        }
      ]
    },
    {
      "cell_type": "code",
      "source": [
        "S = mod_inverse(hashed_message_admin, N)\n",
        "print(f\"Forged token value (S): {S}\")\n"
      ],
      "metadata": {
        "colab": {
          "base_uri": "https://localhost:8080/"
        },
        "id": "w5IKDhP-flf6",
        "outputId": "51354d2b-b8ad-4294-8c0d-53b9d6817df4"
      },
      "execution_count": null,
      "outputs": [
        {
          "output_type": "stream",
          "name": "stdout",
          "text": [
            "Forged token value (S): 22767620550859502820842873128203896649915385328256314428699198993321267331870531155386942398413012268444836188151091746510452265403660028194073720023473519150674272875548989191205589043378977722991665058296992167442927866418466234989854767436535013536062776063433512677884969462041387459230880115513455201755872218821088111962662574058633761194833557760672568395390119361866038838066078259298321101595388141511994891302987354746324864419081814658199435042932203843300165671130783412642269260049055036420835055034655339711202661714655187097954572061874013264849428415939920329402626913875981951113259251793357440843119\n"
          ]
        }
      ]
    },
    {
      "cell_type": "code",
      "source": [
        "# Encode the forged token in Base64\n",
        "forged_token = b64encode(str(S).encode()).decode()\n",
        "print(f\"Base64 Encoded Forged Token for System_Administrator: {forged_token}\")\n"
      ],
      "metadata": {
        "colab": {
          "base_uri": "https://localhost:8080/"
        },
        "id": "oR_P0vctfIJQ",
        "outputId": "71963f2a-f72e-4e94-e870-109720eabd70"
      },
      "execution_count": null,
      "outputs": [
        {
          "output_type": "stream",
          "name": "stdout",
          "text": [
            "Base64 Encoded Forged Token for System_Administrator: MjI3Njc2MjA1NTA4NTk1MDI4MjA4NDI4NzMxMjgyMDM4OTY2NDk5MTUzODUzMjgyNTYzMTQ0Mjg2OTkxOTg5OTMzMjEyNjczMzE4NzA1MzExNTUzODY5NDIzOTg0MTMwMTIyNjg0NDQ4MzYxODgxNTEwOTE3NDY1MTA0NTIyNjU0MDM2NjAwMjgxOTQwNzM3MjAwMjM0NzM1MTkxNTA2NzQyNzI4NzU1NDg5ODkxOTEyMDU1ODkwNDMzNzg5Nzc3MjI5OTE2NjUwNTgyOTY5OTIxNjc0NDI5Mjc4NjY0MTg0NjYyMzQ5ODk4NTQ3Njc0MzY1MzUwMTM1MzYwNjI3NzYwNjM0MzM1MTI2Nzc4ODQ5Njk0NjIwNDEzODc0NTkyMzA4ODAxMTU1MTM0NTUyMDE3NTU4NzIyMTg4MjEwODgxMTE5NjI2NjI1NzQwNTg2MzM3NjExOTQ4MzM1NTc3NjA2NzI1NjgzOTUzOTAxMTkzNjE4NjYwMzg4MzgwNjYwNzgyNTkyOTgzMjExMDE1OTUzODgxNDE1MTE5OTQ4OTEzMDI5ODczNTQ3NDYzMjQ4NjQ0MTkwODE4MTQ2NTgxOTk0MzUwNDI5MzIyMDM4NDMzMDAxNjU2NzExMzA3ODM0MTI2NDIyNjkyNjAwNDkwNTUwMzY0MjA4MzUwNTUwMzQ2NTUzMzk3MTEyMDI2NjE3MTQ2NTUxODcwOTc5NTQ1NzIwNjE4NzQwMTMyNjQ4NDk0Mjg0MTU5Mzk5MjAzMjk0MDI2MjY5MTM4NzU5ODE5NTExMTMyNTkyNTE3OTMzNTc0NDA4NDMxMTk=\n"
          ]
        }
      ]
    },
    {
      "cell_type": "code",
      "source": [],
      "metadata": {
        "id": "DFRxw3Uj8f0C"
      },
      "execution_count": null,
      "outputs": []
    },
    {
      "cell_type": "code",
      "source": [
        "from sympy import mod_inverse\n",
        "\n",
        "golden_ratio = 2654435761\n",
        "equations = [\n",
        "    (2575596209, 2496756657),\n",
        "    (2389420927, 1859391259),\n",
        "    (2205964921, 302913724),\n",
        "    (2555810731, 2448745652),\n",
        "    (2324583473, 822036049),\n",
        "]\n",
        "\n",
        "prime_factors = []\n",
        "for rnd, output in equations:\n",
        "    rnd_inv = mod_inverse(rnd, golden_ratio)\n",
        "    k = (output * rnd_inv) % golden_ratio\n",
        "    prime_factors.append(k)\n",
        "\n",
        "# Compute the hash (N hash)\n",
        "derived_hash = 1\n",
        "for factor in prime_factors:\n",
        "    derived_hash *= factor\n",
        "\n",
        "print(f\"Derived hash (N hash): {derived_hash}\")\n"
      ],
      "metadata": {
        "colab": {
          "base_uri": "https://localhost:8080/"
        },
        "id": "NU06lVR--ByS",
        "outputId": "1e58d207-a3ac-4732-8ea2-f2241352ef6c"
      },
      "execution_count": null,
      "outputs": [
        {
          "output_type": "stream",
          "name": "stdout",
          "text": [
            "Derived hash (N hash): 1361412366\n"
          ]
        }
      ]
    },
    {
      "cell_type": "code",
      "source": [
        "from sympy import mod_inverse, gcd\n",
        "from base64 import b64encode\n",
        "\n",
        "# Use the actual session N and e returned by the server\n",
        "e = 65537\n",
        "N = 25357422969441557750227465266812135780366341747599389726352613849881348017019309983966782920180304479589027383216989748338630340790194434347151159437025314742189440166817752015858912595869170054047524570844199786066137780115356847744866746587921660407887177802430028770435250572650119361242248641553635230537046696180800195079624471438432015023519554894044023270280121992806755974351508638535035151574671251369143110361414840875382299816135968255372868973240272529535818059134143397346157583183404373030014234447191945055361414003973449818563974855861322670692200859290468379332598919308819323081638117979694711907327\n",
        "\n",
        "# Compute hashed message for System_Administrator\n",
        "golden_ratio = 2654435761\n",
        "admin_username = int.from_bytes(b\"System_Administrator\", \"big\")\n",
        "hashed_message_admin = ((admin_username % golden_ratio) * golden_ratio) >> 32\n",
        "\n",
        "print(f\"Hashed message for System_Administrator: {hashed_message_admin}\")\n",
        "\n",
        "# Check coprimality\n",
        "if gcd(hashed_message_admin, N) == 1:\n",
        "    print(\"Hashed message and N are coprime.\")\n",
        "else:\n",
        "    print(\"Hashed message and N are NOT coprime.\")\n",
        "\n",
        "# Forge token if coprime\n",
        "try:\n",
        "    S = mod_inverse(hashed_message_admin, N)\n",
        "    print(f\"Forged token value (S): {S}\")\n",
        "\n",
        "    # Verify forged token\n",
        "    verified_value = pow(S, e, N)\n",
        "    print(f\"Verification result: {verified_value}\")\n",
        "    if verified_value == hashed_message_admin:\n",
        "        print(\"Verification successful.\")\n",
        "    else:\n",
        "        print(\"Verification failed.\")\n",
        "\n",
        "    # Encode the token\n",
        "    forged_token = b64encode(str(S).encode()).decode()\n",
        "    print(f\"Base64 Encoded Forged Token for System_Administrator: {forged_token}\")\n",
        "except ValueError:\n",
        "    print(\"Failed to compute modular inverse. Ensure hashed_message_admin and N are coprime.\")\n"
      ],
      "metadata": {
        "colab": {
          "base_uri": "https://localhost:8080/"
        },
        "id": "StOSMVO0-RDE",
        "outputId": "55b9dab4-de10-4e30-f05d-5b32de3d11dc"
      },
      "execution_count": null,
      "outputs": [
        {
          "output_type": "stream",
          "name": "stdout",
          "text": [
            "Hashed message for System_Administrator: 1115247629\n",
            "Hashed message and N are coprime.\n",
            "Forged token value (S): 24721529093710843869949371581056938255135091588610592076389417866235414821189133983223647600470573796182395977837723258536017907023739791817342801317489561496064211388970419524026805533338225044374884091432664686791209457990730262450673649572768475425292562649376625964409701585259948847314226469505917591226944987576329787610097281802124779239227594839619428390604885856409874874423302057048400114074580602705526886592576956938400573199157420998966295173189796775078540351184167157418797251128253861155197771896949297750353097034271833229333574611987006726378114599759087978770269814303060095843695040238259982050999\n",
            "Verification result: 6950815351427580136165005433805221529858384439920942121409468781348458345594845144275080405441975917361553171663914680683643011121623263144104231415542281804569380936787229627231472682333198985106038268004402474740648039733223853842396685524809765285182044078334250227161787352964936752902137007697332770827335839211379106148153466105282697684945775572186892188872249490010724966992161307788989131833546725729267499004543377514240951607879345685027859561203049480051840300091361699288011036637797217935372213958415787506902419700950188287913937723709122055414516253663846072079892068626328784263630535973137395755146\n",
            "Verification failed.\n",
            "Base64 Encoded Forged Token for System_Administrator: MjQ3MjE1MjkwOTM3MTA4NDM4Njk5NDkzNzE1ODEwNTY5MzgyNTUxMzUwOTE1ODg2MTA1OTIwNzYzODk0MTc4NjYyMzU0MTQ4MjExODkxMzM5ODMyMjM2NDc2MDA0NzA1NzM3OTYxODIzOTU5Nzc4Mzc3MjMyNTg1MzYwMTc5MDcwMjM3Mzk3OTE4MTczNDI4MDEzMTc0ODk1NjE0OTYwNjQyMTEzODg5NzA0MTk1MjQwMjY4MDU1MzMzMzgyMjUwNDQzNzQ4ODQwOTE0MzI2NjQ2ODY3OTEyMDk0NTc5OTA3MzAyNjI0NTA2NzM2NDk1NzI3Njg0NzU0MjUyOTI1NjI2NDkzNzY2MjU5NjQ0MDk3MDE1ODUyNTk5NDg4NDczMTQyMjY0Njk1MDU5MTc1OTEyMjY5NDQ5ODc1NzYzMjk3ODc2MTAwOTcyODE4MDIxMjQ3NzkyMzkyMjc1OTQ4Mzk2MTk0MjgzOTA2MDQ4ODU4NTY0MDk4NzQ4NzQ0MjMzMDIwNTcwNDg0MDAxMTQwNzQ1ODA2MDI3MDU1MjY4ODY1OTI1NzY5NTY5Mzg0MDA1NzMxOTkxNTc0MjA5OTg5NjYyOTUxNzMxODk3OTY3NzUwNzg1NDAzNTExODQxNjcxNTc0MTg3OTcyNTExMjgyNTM4NjExNTUxOTc3NzE4OTY5NDkyOTc3NTAzNTMwOTcwMzQyNzE4MzMyMjkzMzM1NzQ2MTE5ODcwMDY3MjYzNzgxMTQ1OTk3NTkwODc5Nzg3NzAyNjk4MTQzMDMwNjAwOTU4NDM2OTUwNDAyMzgyNTk5ODIwNTA5OTk=\n"
          ]
        }
      ]
    },
    {
      "cell_type": "code",
      "source": [
        "golden_ratio = 2654435761\n",
        "admin_username = int.from_bytes(b\"System_Administrator\", \"big\")\n",
        "hashed_message_admin = ((admin_username % golden_ratio) * golden_ratio) >> 32\n",
        "print(f\"Hashed message for System_Administrator: {hashed_message_admin}\")\n"
      ],
      "metadata": {
        "colab": {
          "base_uri": "https://localhost:8080/"
        },
        "id": "AEB23DLA_uI2",
        "outputId": "096f3a8a-b75d-4909-e1a8-4584b8243ca6"
      },
      "execution_count": null,
      "outputs": [
        {
          "output_type": "stream",
          "name": "stdout",
          "text": [
            "Hashed message for System_Administrator: 1115247629\n"
          ]
        }
      ]
    },
    {
      "cell_type": "code",
      "source": [
        "import hashlib\n",
        "\n",
        "message = \"System_Administrator\"\n",
        "hash_object = hashlib.sha256(message.encode())\n",
        "numeric_hash = int(hash_object.hexdigest(), 16) % (10**10)  # Limit to 10 digits\n",
        "print(numeric_hash)  # Could give a result like 1115247629\n"
      ],
      "metadata": {
        "colab": {
          "base_uri": "https://localhost:8080/"
        },
        "id": "DRhvV35YDqvf",
        "outputId": "7b06d870-2a3c-4aed-869d-4625acd8fddf"
      },
      "execution_count": null,
      "outputs": [
        {
          "output_type": "stream",
          "name": "stdout",
          "text": [
            "1913717077\n"
          ]
        }
      ]
    },
    {
      "cell_type": "code",
      "source": [
        "golden_ratio = 2654435761\n",
        "admin_username = int.from_bytes(b\"System_Administrator\", \"big\")\n",
        "hashed_message_admin = ((admin_username % golden_ratio) * golden_ratio) >> 32\n",
        "print(f\"Hashed message for System_Administrator: {hashed_message_admin}\")\n",
        "\n",
        "# Find a colliding username\n",
        "for i in range(1, 1000000000):\n",
        "    test_username = f\"Admin{i}\"\n",
        "    numeric_username = int.from_bytes(test_username.encode(), \"big\")\n",
        "    hashed_test = ((numeric_username % golden_ratio) * golden_ratio) >> 64\n",
        "    if hashed_test == hashed_message_admin:\n",
        "      print(f\"Found matching username: {test_username}\")\n",
        "      break\n"
      ],
      "metadata": {
        "colab": {
          "base_uri": "https://localhost:8080/"
        },
        "id": "1ICf6J-DAR7L",
        "outputId": "b440a078-767f-4742-a836-482ff239bc6a"
      },
      "execution_count": null,
      "outputs": [
        {
          "output_type": "stream",
          "name": "stdout",
          "text": [
            "Hashed message for System_Administrator: 1115247629\n"
          ]
        }
      ]
    },
    {
      "cell_type": "code",
      "source": [
        "#1st Brute force to find a colliding usename modulo  the goldern_ratio\n",
        "golden_ratio = 2654435761\n",
        "admin_mod = int.from_bytes(b\"System_Administrator\", \"big\") % golden_ratio\n",
        "\n",
        "for i in range(1, 1000000000):\n",
        "    test_username = f\"User{i}\"\n",
        "    numeric_username = int.from_bytes(test_username.encode(), \"big\")\n",
        "    if numeric_username % golden_ratio == admin_mod:\n",
        "        print(f\"Found colliding username: {test_username}\")\n",
        "        break\n"
      ],
      "metadata": {
        "id": "gGOsvBi1fiiz"
      },
      "execution_count": null,
      "outputs": []
    },
    {
      "cell_type": "code",
      "source": [
        "#2nd Brute Force on System Admin usename\n",
        "from sympy import mod_inverse\n",
        "from math import gcd\n",
        "from base64 import b64encode\n",
        "\n",
        "# Known values\n",
        "e = 65537\n",
        "hashed_message_admin = 1115247629  # Replace with computed value\n",
        "golden_ratio = 2654435761\n",
        "\n",
        "# Brute force N\n",
        "for candidate_N in range(10**300, 10**301): # Adjust range as needed\n",
        "    if gcd(hashed_message_admin, candidate_N) == 1:  # Ensure coprimality\n",
        "        try:\n",
        "            # Compute S (forged token)\n",
        "            S = mod_inverse(hashed_message_admin, candidate_N)\n",
        "\n",
        "            # Verify S^e mod candidate_N\n",
        "            verification = pow(S, e, candidate_N)\n",
        "            if verification == hashed_message_admin:\n",
        "                print(f\"Found valid modulus N: {candidate_N}\")\n",
        "                print(f\"Forged token value (S): {S}\")\n",
        "\n",
        "                # Encode the forged token\n",
        "                forged_token = b64encode(str(S).encode()).decode()\n",
        "                print(f\"Base64 Encoded Forged Token: {forged_token}\")\n",
        "                break\n",
        "        except ValueError:\n",
        "            # Modular inverse failed, skip candidate\n",
        "            continue\n"
      ],
      "metadata": {
        "id": "o7hAPDqewM5S"
      },
      "execution_count": null,
      "outputs": []
    },
    {
      "cell_type": "code",
      "source": [
        "from base64 import b64decode\n",
        "\n",
        "valid_token = \"MTAzNDU2NzIzMjg5ODk5OTc4OTIyNzIwNjUzMTk2ODU2NTkzODczMjk5NjYyODI0OTQ1OTI2MDI4NjgzNTk2MzI0NjM4OTQ0NjE4MDM0OTYxMDU5MDM4Njk4NzU3NTcwNjAzMTQ0Mjk2MTk2MTg0NDI3NTkwNzc5NjM4NzA3NTE4NzU4NDk0MjE1MzQzOTE5MTE0NDMzMjgzODg2NDc4MTA1MDMxOTMxNjczMzg2MDE0MTAyNDYzMjY4NzM3MTI3NDQwOTQxOTU0MzU1MDY3MzcxNzY3NzkwOTAwMzY2MjY2Nzc0OTEwNTE0NTE3MjI2NjE5MzE2MjQ4MTEyMDkwMDU3MjMxMTQ0Nzg0NDI0NjY5NDQ4MDc0MjA1Nzk0ODAwNDI1ODE0NDYwNzYxMDgxODQ3Mjc3MjExMTU3MTcxNTUxMTgyMzg0MTg0ODg1MTg0NTk2MjcwMTU5MTA2MjUxNjYyOTM1OTQ2NTI3MDczMDcyOTIxNDQ5NTI5MzQ1ODE3NTE2NDY5NTU4NDUxMjc1ODQ3MjUxNjI3OTkzNTIzMDA3MzgxMDY4NDIwMDU4ODY1MzEzNjg2ODA2MTIyNjcwNTk0NzcyNzQ4MTc3MzI4Mzk3NjY3ODI4NDYzMjAyNjQ5ODYyMDcwMjU3MTI5MjIxNzg0MTM1NTcwMzU3OTkwMDc4NjA0OTMzOTk5ODE2NDc0MTIyMzkwNTY0MTAwNTIxODQ3NDg5Mzg4ODk5MDMxMTMyMjczNDgyODQwMDYxMjExNjQ2NDcwMzE3NTMzMDY4Njk4ODk3NDgxMTUzNzUwNzcwNDU4MDEwNTI=\"\n",
        "decoded_value = b64decode(valid_token).decode()\n",
        "print(f\"Decoded valid token: {decoded_value}\")\n"
      ],
      "metadata": {
        "colab": {
          "base_uri": "https://localhost:8080/"
        },
        "id": "pk18aIcqIxsD",
        "outputId": "750a4209-e792-4dec-c05b-da45f9c269d4"
      },
      "execution_count": null,
      "outputs": [
        {
          "output_type": "stream",
          "name": "stdout",
          "text": [
            "Decoded valid token: 10345672328989997892272065319685659387329966282494592602868359632463894461803496105903869875757060314429619618442759077963870751875849421534391911443328388647810503193167338601410246326873712744094195435506737176779090036626677491051451722661931624811209005723114478442466944807420579480042581446076108184727721115717155118238418488518459627015910625166293594652707307292144952934581751646955845127584725162799352300738106842005886531368680612267059477274817732839766782846320264986207025712922178413557035799007860493399981647412239056410052184748938889903113227348284006121164647031753306869889748115375077045801052\n"
          ]
        }
      ]
    },
    {
      "cell_type": "code",
      "source": [
        "golden_ratio = 2654435761\n",
        "admin_username = int.from_bytes(b\"System_Administrator\", \"big\")\n",
        "hashed_message_admin = ((admin_username % golden_ratio) * golden_ratio) >> 32\n",
        "print(f\"Hashed message for System_Administrator: {hashed_message_admin}\")\n"
      ],
      "metadata": {
        "colab": {
          "base_uri": "https://localhost:8080/"
        },
        "id": "1682qZG3OXGA",
        "outputId": "a130c910-1f8d-44f6-ad37-e8b159cbce58"
      },
      "execution_count": null,
      "outputs": [
        {
          "output_type": "stream",
          "name": "stdout",
          "text": [
            "Hashed message for System_Administrator: 1115247629\n"
          ]
        }
      ]
    },
    {
      "cell_type": "code",
      "source": [
        "from base64 import b64encode\n",
        "\n",
        "modified_token = 10345672328989997892272065319685659387329966282494592602868359632463894461803496105903869875757060314429619618442759077963870751875849421534391911443328388647810503193167338601410246326873712744094195435506737176779090036626677491051451722661931624811209005723114478442466944807420579480042581446076108184727721115717155118238418488518459627015910625166293594652707307292144952934581751646955845127584725162799352300738106842005886531368680612267059477274817732839766782846320264986207025712922178413557035799007860493399981647412239056410052184748938889903113227348284006121164647031753306869889748115375077045801052 + 1  # Adjust as needed\n",
        "forged_token = b64encode(str(modified_token).encode()).decode()\n",
        "print(f\"Modified Base64 Token: {forged_token}\")\n"
      ],
      "metadata": {
        "colab": {
          "base_uri": "https://localhost:8080/"
        },
        "id": "cN6yP_lTOZ2d",
        "outputId": "52353e47-1f5f-4ced-d6d3-67d2c0c0be48"
      },
      "execution_count": null,
      "outputs": [
        {
          "output_type": "stream",
          "name": "stdout",
          "text": [
            "Modified Base64 Token: MTAzNDU2NzIzMjg5ODk5OTc4OTIyNzIwNjUzMTk2ODU2NTkzODczMjk5NjYyODI0OTQ1OTI2MDI4NjgzNTk2MzI0NjM4OTQ0NjE4MDM0OTYxMDU5MDM4Njk4NzU3NTcwNjAzMTQ0Mjk2MTk2MTg0NDI3NTkwNzc5NjM4NzA3NTE4NzU4NDk0MjE1MzQzOTE5MTE0NDMzMjgzODg2NDc4MTA1MDMxOTMxNjczMzg2MDE0MTAyNDYzMjY4NzM3MTI3NDQwOTQxOTU0MzU1MDY3MzcxNzY3NzkwOTAwMzY2MjY2Nzc0OTEwNTE0NTE3MjI2NjE5MzE2MjQ4MTEyMDkwMDU3MjMxMTQ0Nzg0NDI0NjY5NDQ4MDc0MjA1Nzk0ODAwNDI1ODE0NDYwNzYxMDgxODQ3Mjc3MjExMTU3MTcxNTUxMTgyMzg0MTg0ODg1MTg0NTk2MjcwMTU5MTA2MjUxNjYyOTM1OTQ2NTI3MDczMDcyOTIxNDQ5NTI5MzQ1ODE3NTE2NDY5NTU4NDUxMjc1ODQ3MjUxNjI3OTkzNTIzMDA3MzgxMDY4NDIwMDU4ODY1MzEzNjg2ODA2MTIyNjcwNTk0NzcyNzQ4MTc3MzI4Mzk3NjY3ODI4NDYzMjAyNjQ5ODYyMDcwMjU3MTI5MjIxNzg0MTM1NTcwMzU3OTkwMDc4NjA0OTMzOTk5ODE2NDc0MTIyMzkwNTY0MTAwNTIxODQ3NDg5Mzg4ODk5MDMxMTMyMjczNDgyODQwMDYxMjExNjQ2NDcwMzE3NTMzMDY4Njk4ODk3NDgxMTUzNzUwNzcwNDU4MDEwNTM=\n"
          ]
        }
      ]
    }
  ]
}